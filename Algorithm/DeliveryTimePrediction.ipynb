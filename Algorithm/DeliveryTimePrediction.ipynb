{
 "cells": [
  {
   "cell_type": "code",
   "execution_count": 628,
   "metadata": {
    "pycharm": {
     "is_executing": false
    }
   },
   "outputs": [
    {
     "data": {
      "text/plain": "    Latitude  Longitude    Product Nr  Actual Delivery Time\n0  52.263007   7.005476  5.119010e+12                     4\n1  51.592293   5.316224  7.187600e+12                     7\n2  51.594927   4.546363  1.113020e+12                     1\n3  51.356960   5.311556  2.130740e+12                     2\n4  51.589600   4.777170  2.136330e+12                    17",
      "text/html": "<div>\n<style scoped>\n    .dataframe tbody tr th:only-of-type {\n        vertical-align: middle;\n    }\n\n    .dataframe tbody tr th {\n        vertical-align: top;\n    }\n\n    .dataframe thead th {\n        text-align: right;\n    }\n</style>\n<table border=\"1\" class=\"dataframe\">\n  <thead>\n    <tr style=\"text-align: right;\">\n      <th></th>\n      <th>Latitude</th>\n      <th>Longitude</th>\n      <th>Product Nr</th>\n      <th>Actual Delivery Time</th>\n    </tr>\n  </thead>\n  <tbody>\n    <tr>\n      <th>0</th>\n      <td>52.263007</td>\n      <td>7.005476</td>\n      <td>5.119010e+12</td>\n      <td>4</td>\n    </tr>\n    <tr>\n      <th>1</th>\n      <td>51.592293</td>\n      <td>5.316224</td>\n      <td>7.187600e+12</td>\n      <td>7</td>\n    </tr>\n    <tr>\n      <th>2</th>\n      <td>51.594927</td>\n      <td>4.546363</td>\n      <td>1.113020e+12</td>\n      <td>1</td>\n    </tr>\n    <tr>\n      <th>3</th>\n      <td>51.356960</td>\n      <td>5.311556</td>\n      <td>2.130740e+12</td>\n      <td>2</td>\n    </tr>\n    <tr>\n      <th>4</th>\n      <td>51.589600</td>\n      <td>4.777170</td>\n      <td>2.136330e+12</td>\n      <td>17</td>\n    </tr>\n  </tbody>\n</table>\n</div>"
     },
     "metadata": {},
     "output_type": "execute_result",
     "execution_count": 628
    }
   ],
   "source": [
    "import pandas as pd\n",
    "\n",
    "data = pd.read_csv(r\"D:\\Downloads\\NewDataSet.csv\")\n",
    "data.head()"
   ]
  },
  {
   "cell_type": "code",
   "execution_count": 629,
   "metadata": {
    "pycharm": {
     "is_executing": false
    }
   },
   "outputs": [
    {
     "data": {
      "text/plain": "           Latitude     Longitude    Product Nr  Actual Delivery Time\ncount  20005.000000  20005.000000  2.000500e+04          20005.000000\nmean      52.122797      5.584748  4.637958e+12              3.748063\nstd        0.564288      0.864061  2.280047e+12              4.489296\nmin       50.770793      3.387919  1.100030e+12              1.000000\n25%       51.641167      4.951427  2.197900e+12              2.000000\n50%       52.092734      5.668272  4.199100e+12              3.000000\n75%       52.523599      6.257708  6.194950e+12              4.000000\nmax       53.478596      7.145816  8.200000e+12             50.000000",
      "text/html": "<div>\n<style scoped>\n    .dataframe tbody tr th:only-of-type {\n        vertical-align: middle;\n    }\n\n    .dataframe tbody tr th {\n        vertical-align: top;\n    }\n\n    .dataframe thead th {\n        text-align: right;\n    }\n</style>\n<table border=\"1\" class=\"dataframe\">\n  <thead>\n    <tr style=\"text-align: right;\">\n      <th></th>\n      <th>Latitude</th>\n      <th>Longitude</th>\n      <th>Product Nr</th>\n      <th>Actual Delivery Time</th>\n    </tr>\n  </thead>\n  <tbody>\n    <tr>\n      <th>count</th>\n      <td>20005.000000</td>\n      <td>20005.000000</td>\n      <td>2.000500e+04</td>\n      <td>20005.000000</td>\n    </tr>\n    <tr>\n      <th>mean</th>\n      <td>52.122797</td>\n      <td>5.584748</td>\n      <td>4.637958e+12</td>\n      <td>3.748063</td>\n    </tr>\n    <tr>\n      <th>std</th>\n      <td>0.564288</td>\n      <td>0.864061</td>\n      <td>2.280047e+12</td>\n      <td>4.489296</td>\n    </tr>\n    <tr>\n      <th>min</th>\n      <td>50.770793</td>\n      <td>3.387919</td>\n      <td>1.100030e+12</td>\n      <td>1.000000</td>\n    </tr>\n    <tr>\n      <th>25%</th>\n      <td>51.641167</td>\n      <td>4.951427</td>\n      <td>2.197900e+12</td>\n      <td>2.000000</td>\n    </tr>\n    <tr>\n      <th>50%</th>\n      <td>52.092734</td>\n      <td>5.668272</td>\n      <td>4.199100e+12</td>\n      <td>3.000000</td>\n    </tr>\n    <tr>\n      <th>75%</th>\n      <td>52.523599</td>\n      <td>6.257708</td>\n      <td>6.194950e+12</td>\n      <td>4.000000</td>\n    </tr>\n    <tr>\n      <th>max</th>\n      <td>53.478596</td>\n      <td>7.145816</td>\n      <td>8.200000e+12</td>\n      <td>50.000000</td>\n    </tr>\n  </tbody>\n</table>\n</div>"
     },
     "metadata": {},
     "output_type": "execute_result",
     "execution_count": 629
    }
   ],
   "source": [
    "data.describe()"
   ]
  },
  {
   "cell_type": "code",
   "execution_count": 630,
   "metadata": {
    "pycharm": {
     "is_executing": false
    }
   },
   "outputs": [],
   "source": [
    "x = data[['Product Nr','Latitude','Longitude']].values\n",
    "\n",
    "\n",
    "y = data['Actual Delivery Time'].values\n",
    "\n",
    "names = ['Product Nr','Latitude','Longitude']"
   ]
  },
  {
   "cell_type": "code",
   "execution_count": 631,
   "metadata": {
    "pycharm": {
     "is_executing": false
    }
   },
   "outputs": [
    {
     "name": "stdout",
     "text": [
      "[[2.69989157e+14]\n [2.18596579e+14]\n [4.19557988e+14]\n ...\n [4.17937019e+14]\n [2.68277754e+14]\n [4.20488685e+14]]\n"
     ],
     "output_type": "stream"
    }
   ],
   "source": [
    "import numpy\n",
    "from sklearn.model_selection import train_test_split\n",
    "\n",
    "numpy.random.seed(1000)\n",
    "\n",
    "x_train, x_test, y_train, y_test = train_test_split(x, y, train_size=0.75, random_state=1)\n",
    "x_p = x_test[:,0:1] * x_test[:,1:2]\n",
    "#x_p.sort(axis=1)\n",
    "print(x_p)"
   ]
  },
  {
   "cell_type": "code",
   "execution_count": 632,
   "metadata": {
    "pycharm": {
     "is_executing": false
    }
   },
   "outputs": [
    {
     "data": {
      "text/plain": "LinearRegression(copy_X=True, fit_intercept=True, n_jobs=None, normalize=False)"
     },
     "metadata": {},
     "output_type": "execute_result",
     "execution_count": 632
    }
   ],
   "source": [
    "# Fitting Linear Regression to the dataset\n",
    "from sklearn.linear_model import LinearRegression\n",
    "regressor = LinearRegression()\n",
    "regressor.fit(x_train, y_train)"
   ]
  },
  {
   "cell_type": "code",
   "execution_count": 633,
   "metadata": {
    "pycharm": {
     "is_executing": false
    }
   },
   "outputs": [],
   "source": [
    "y_pred = regressor.predict(x_test)"
   ]
  },
  {
   "cell_type": "code",
   "execution_count": 634,
   "metadata": {
    "pycharm": {
     "is_executing": false
    }
   },
   "outputs": [
    {
     "data": {
      "text/plain": "-0.0007712555701671063"
     },
     "metadata": {},
     "output_type": "execute_result",
     "execution_count": 634
    }
   ],
   "source": [
    "regressor.score(x_test, y_test)"
   ]
  },
  {
   "cell_type": "code",
   "execution_count": 635,
   "metadata": {
    "pycharm": {
     "is_executing": false
    }
   },
   "outputs": [
    {
     "name": "stdout",
     "text": [
      "[ 2.53753240e-15  6.16548477e-02 -8.44770773e-02]\n"
     ],
     "output_type": "stream"
    }
   ],
   "source": [
    "print(regressor.coef_)"
   ]
  },
  {
   "cell_type": "code",
   "execution_count": 636,
   "metadata": {
    "pycharm": {
     "is_executing": false
    }
   },
   "outputs": [],
   "source": [
    "# Fitting Polynomial Regression to the dataset\n",
    "from sklearn.preprocessing import PolynomialFeatures\n",
    "\n",
    "\n",
    "poly_reg = PolynomialFeatures(degree=4)\n",
    "X_poly = poly_reg.fit_transform(x_train)\n",
    "X_t_poly = poly_reg.fit_transform(x_test)\n",
    "pol_reg = LinearRegression()\n",
    "pol_reg.fit(X_poly, y_train)\n",
    "polynom = pol_reg.predict(poly_reg.fit_transform(x_test))"
   ]
  },
  {
   "cell_type": "code",
   "execution_count": 637,
   "metadata": {
    "scrolled": true,
    "pycharm": {
     "is_executing": false
    }
   },
   "outputs": [
    {
     "name": "stdout",
     "text": [
      "5002\n5002\nmean_absolute_error: 2.4604015741518914\nmean_squared_error: 20.169757293887347\nr2_score: -0.0008304231483589053\n"
     ],
     "output_type": "stream"
    },
    {
     "data": {
      "text/plain": "<Figure size 432x288 with 1 Axes>",
      "image/png": "[encoded data removed]"
     },
     "metadata": {
      "needs_background": "light"
     },
     "output_type": "display_data"
    }
   ],
   "source": [
    "import matplotlib.pyplot as plt\n",
    "from sklearn.metrics import mean_absolute_error\n",
    "from sklearn.metrics import mean_squared_error\n",
    "from sklearn.metrics import r2_score\n",
    "from sklearn.tree import export_graphviz\n",
    "from IPython.display import Image\n",
    "from subprocess import call\n",
    "\n",
    "print(len(x_p))\n",
    "print(len(y_test))\n",
    "print(\"mean_absolute_error: \" + str(mean_absolute_error(y_test, polynom)))\n",
    "print(\"mean_squared_error: \" + str(mean_squared_error(y_test, polynom)))\n",
    "print(\"r2_score: \" + str(r2_score(y_test, polynom)))\n",
    "plt.scatter(x_p, y_test, color='red', alpha=0.005)\n",
    "plt.scatter(x_p, polynom, color='blue', alpha=0.005)\n",
    "plt.ylim(2.9, 4.2)\n",
    "plt.title(\"Delivery days+\")\n",
    "plt.xlabel(\"Long * Lat\")\n",
    "plt.ylabel(\"Set Label\")\n",
    "plt.show()"
   ]
  },
  {
   "cell_type": "code",
   "execution_count": 637,
   "metadata": {
    "pycharm": {
     "is_executing": false
    }
   },
   "outputs": [],
   "source": []
  }
 ],
 "metadata": {
  "kernelspec": {
   "display_name": "Python 3",
   "language": "python",
   "name": "python3"
  },
  "language_info": {
   "codemirror_mode": {
    "name": "ipython",
    "version": 3
   },
   "file_extension": ".py",
   "mimetype": "text/x-python",
   "name": "python",
   "nbconvert_exporter": "python",
   "pygments_lexer": "ipython3",
   "version": "3.7.3"
  },
  "pycharm": {
   "stem_cell": {
    "cell_type": "raw",
    "source": [],
    "metadata": {
     "collapsed": false
    }
   }
  }
 },
 "nbformat": 4,
 "nbformat_minor": 2
}